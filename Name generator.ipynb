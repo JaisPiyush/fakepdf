{
 "cells": [
  {
   "cell_type": "code",
   "execution_count": 123,
   "metadata": {},
   "outputs": [],
   "source": [
    "import pandas as pd"
   ]
  },
  {
   "cell_type": "code",
   "execution_count": 124,
   "metadata": {},
   "outputs": [],
   "source": [
    "male_names = pd.read_csv('Indian-Male-Names.csv', sep=',').fillna(\"\")\n",
    "female_names = pd.read_csv('Indian-Female-Names.csv', sep=\",\").fillna(\"\")\n",
    "surnames = pd.read_csv('surnames.csv', sep=\",\").fillna(\"\")\n",
    "surname_list = [name[0] for name in surnames.values]"
   ]
  },
  {
   "cell_type": "code",
   "execution_count": 125,
   "metadata": {},
   "outputs": [],
   "source": [
    "def clean_names(array):\n",
    "    filtered_names = []\n",
    "    array = [name[0] for name in array]\n",
    "    for name in array:\n",
    "        if len(name.split(\" \")) == 2 and name.split(\" \")[0] and not (\"/\" in name or \"@\" in name or '-' in name):\n",
    "            splitted = name.split(\" \")\n",
    "            if splitted[0] == \"smt\" or splitted[0] == \"smt.\":\n",
    "                filtered_names.append(splitted[1])\n",
    "            else:\n",
    "                filtered_names.append(splitted[0])\n",
    "    return filtered_names"
   ]
  },
  {
   "cell_type": "code",
   "execution_count": 126,
   "metadata": {},
   "outputs": [],
   "source": [
    "filtered_male_names = clean_names(male_names.values)\n",
    "filtered_female_names = clean_names(female_names.values)\n"
   ]
  },
  {
   "cell_type": "markdown",
   "metadata": {},
   "source": [
    "### Random Name mixer"
   ]
  },
  {
   "cell_type": "code",
   "execution_count": 158,
   "metadata": {},
   "outputs": [],
   "source": [
    "import random\n",
    "import csv\n",
    "\n",
    "#change the value of num to generate as many names as you want.The default is 10\n",
    "num = 900\n",
    "names =[]\n",
    "for i in range(num):\n",
    "    choice = random.choice([\"male\", \"female\"])\n",
    "    if choice == \"male\":\n",
    "        name = random.choice(filtered_male_names)\n",
    "    else:\n",
    "        name = random.choice(filtered_female_names)\n",
    "    name = name.capitalize()\n",
    "    if name in [\"Abdul\", \"Mohd\", \"Saddam\", \"Md\", \"Talibb\"]:\n",
    "        name += \" \"  + random.choice([\"Khan\", \"Ahmad\", \"Siddqui\", \"Hussain\", \"Alam\", \"Muftar\"])\n",
    "    else:\n",
    "        name += \" \"+(random.choice(surname_list)).capitalize()\n",
    "    names.append(name)\n",
    "    \n",
    "frame = pd.DataFrame(names, columns=[\"Name\"])\n",
    "frame.to_csv('names.csv')"
   ]
  },
  {
   "cell_type": "code",
   "execution_count": 159,
   "metadata": {},
   "outputs": [],
   "source": [
    "names = pd.read_csv('names.csv')"
   ]
  },
  {
   "cell_type": "code",
   "execution_count": 160,
   "metadata": {},
   "outputs": [
    {
     "data": {
      "text/plain": [
       "array([[0, 'Tamu Banerjee'],\n",
       "       [1, 'Kamlesh Thakur'],\n",
       "       [2, 'Nisha Mandalik'],\n",
       "       ...,\n",
       "       [897, 'Deepa Mandalik'],\n",
       "       [898, 'Badri Chowdhury'],\n",
       "       [899, 'Mona Gaur']], dtype=object)"
      ]
     },
     "execution_count": 160,
     "metadata": {},
     "output_type": "execute_result"
    }
   ],
   "source": [
    "names.values"
   ]
  },
  {
   "cell_type": "code",
   "execution_count": null,
   "metadata": {},
   "outputs": [],
   "source": []
  }
 ],
 "metadata": {
  "kernelspec": {
   "display_name": "Python 3",
   "language": "python",
   "name": "python3"
  },
  "language_info": {
   "codemirror_mode": {
    "name": "ipython",
    "version": 3
   },
   "file_extension": ".py",
   "mimetype": "text/x-python",
   "name": "python",
   "nbconvert_exporter": "python",
   "pygments_lexer": "ipython3",
   "version": "3.8.5"
  }
 },
 "nbformat": 4,
 "nbformat_minor": 5
}
